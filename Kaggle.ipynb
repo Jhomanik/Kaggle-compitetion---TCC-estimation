{
  "nbformat": 4,
  "nbformat_minor": 0,
  "metadata": {
    "colab": {
      "name": "Kaggle.ipynb",
      "provenance": [],
      "collapsed_sections": []
    },
    "kernelspec": {
      "display_name": "Python 3",
      "name": "python3"
    },
    "language_info": {
      "name": "python"
    },
    "accelerator": "GPU"
  },
  "cells": [
    {
      "cell_type": "code",
      "metadata": {
        "id": "7PkeTIjziYN5"
      },
      "source": [
        "import torch\n",
        "import torch.nn.functional as F\n",
        "import torchvision\n",
        "from torch import nn\n",
        "from torch.autograd import Variable\n",
        "import numpy as np\n",
        "import pandas as pd\n",
        "import matplotlib.pyplot as plt\n",
        "import seaborn as sns\n",
        "import pickle\n",
        "from torch.utils.data import Dataset, DataLoader\n",
        "import os\n",
        "from sklearn.utils import shuffle\n",
        "from tqdm import tqdm\n",
        "from typing import Tuple, List, Type, Dict, Any"
      ],
      "execution_count": 1,
      "outputs": []
    },
    {
      "cell_type": "code",
      "metadata": {
        "id": "hG0c8in0G3QS"
      },
      "source": [
        "from queue import Empty, Queue\n",
        "from threading import Thread\n",
        "import threading\n",
        "#Threads libraries"
      ],
      "execution_count": null,
      "outputs": []
    },
    {
      "cell_type": "code",
      "metadata": {
        "id": "KCCljdZy6xkn"
      },
      "source": [
        "# data augmentation library\n",
        "from imgaug.augmentables import Keypoint, KeypointsOnImage\n",
        "import imgaug.augmenters as iaa \n"
      ],
      "execution_count": 2,
      "outputs": []
    },
    {
      "cell_type": "code",
      "metadata": {
        "id": "f-v7l1yjrmHk",
        "colab": {
          "base_uri": "https://localhost:8080/"
        },
        "outputId": "37af4f3e-9ab7-4eef-fc10-2b9b96d3f2ef"
      },
      "source": [
        "#mount Drive for data transfer\n",
        "from google.colab import drive\n",
        "drive.mount('/content/drive/')"
      ],
      "execution_count": null,
      "outputs": [
        {
          "output_type": "stream",
          "text": [
            "Drive already mounted at /content/drive/; to attempt to forcibly remount, call drive.mount(\"/content/drive/\", force_remount=True).\n"
          ],
          "name": "stdout"
        }
      ]
    },
    {
      "cell_type": "code",
      "metadata": {
        "id": "v1aEuREpkPwc"
      },
      "source": [
        "with open('/content/drive/MyDrive/geo_kaggle/index.pkl', 'rb') as f:\n",
        "    data_index = pickle.load(f)"
      ],
      "execution_count": null,
      "outputs": []
    },
    {
      "cell_type": "code",
      "metadata": {
        "id": "xBpVON_WQ_-e",
        "colab": {
          "base_uri": "https://localhost:8080/"
        },
        "outputId": "c0e00dd8-b454-4e28-8f83-45639e2b36a8"
      },
      "source": [
        "if torch.cuda.is_available():\n",
        "    device = torch.device(\"cuda:0\")\n",
        "    print('Using GPU', f'({torch.cuda.get_device_name(), torch.cuda.get_device_properties(device)})')\n",
        "else:\n",
        "    device = torch.device('cpu')\n",
        "    print('Using CPU')\n"
      ],
      "execution_count": null,
      "outputs": [
        {
          "output_type": "stream",
          "text": [
            "Using GPU (('Tesla T4', _CudaDeviceProperties(name='Tesla T4', major=7, minor=5, total_memory=15109MB, multi_processor_count=40)))\n"
          ],
          "name": "stdout"
        }
      ]
    },
    {
      "cell_type": "code",
      "metadata": {
        "id": "IKgbgU-MrmRQ"
      },
      "source": [
        "class thread_killer(object):    \n",
        "    \"\"\"Boolean object for signaling a worker thread to terminate\n",
        "    Once a thread is launched, it should be terminated at some moment.\n",
        "    In case the function of this thread is an infinite loop, one needs a mutex\n",
        "    for signaling a worker thread to break the loop.\n",
        "    The fuction will return, and the thread will be terminated.\n",
        "    \"\"\"\n",
        "    \n",
        "    def __init__(self):\n",
        "        self.to_kill = False\n",
        "\n",
        "    def __call__(self):\n",
        "        return self.to_kill\n",
        "\n",
        "    def set_tokill(self, tokill):\n",
        "        self.to_kill = tokill"
      ],
      "execution_count": null,
      "outputs": []
    },
    {
      "cell_type": "code",
      "metadata": {
        "id": "RZFz8J4VIYa9"
      },
      "source": [
        "def threaded_batches_feeder(tokill, batches_queue, dataset_generator):\n",
        "    \"\"\"\n",
        "    Threaded worker for pre-processing input data.\n",
        "    tokill (thread_killer): an object that indicates whether a thread should be terminated\n",
        "    dataset_generator (Dataset): training/validation data generator\n",
        "    batches_queue (Queue): a limited size thread-safe Queue instance for train/validation data batches\n",
        "    \"\"\"\n",
        "    while tokill() == False:\n",
        "        for sample_batch in dataset_generator:\n",
        "            \n",
        "            batches_queue.put(sample_batch, block=True)\n",
        "            \n",
        "            if tokill() == True:\n",
        "                return"
      ],
      "execution_count": null,
      "outputs": []
    },
    {
      "cell_type": "code",
      "metadata": {
        "id": "rZAcbajoIsFC"
      },
      "source": [
        "def threaded_cuda_batches(tokill, cuda_batches_queue, batches_queue):\n",
        "    \"\"\"\n",
        "    Thread worker for transferring pytorch tensors into GPU. \n",
        "    batches_queue (Queue): the queue that fetches numpy cpu tensors.\n",
        "    cuda_batches_queue (Queue): the queue receiving numpy cpu tensors and transfering them to GPU memory.\n",
        "    \"\"\"\n",
        "    while tokill() == False:\n",
        "        sample_batch,labels,ids = batches_queue.get(block=True)\n",
        "        sample_batch = Variable(sample_batch).to(device)\n",
        "        labels = labels.to(device)\n",
        "        ids = ids.to(device)\n",
        "        \n",
        "        cuda_batches_queue.put((sample_batch,labels,ids), block=True)\n",
        "        if tokill() == True:\n",
        "            return"
      ],
      "execution_count": null,
      "outputs": []
    },
    {
      "cell_type": "code",
      "metadata": {
        "id": "DpYDNk41NSug"
      },
      "source": [
        "class Threadsafe_iter:\n",
        "    \"\"\"\n",
        "    Takes an iterator/generator and makes it thread-safe by\n",
        "    serializing call to the `next` method of given iterator/generator.\n",
        "    \"\"\"\n",
        "    def __init__(self, it):\n",
        "        self.it = it\n",
        "        self.lock = threading.Lock()\n",
        "\n",
        "    def __iter__(self):\n",
        "        return self\n",
        "\n",
        "    def __next__(self):\n",
        "        with self.lock:\n",
        "            return next(self.it)\n",
        "\n",
        "def get_objects_id(objects_count):\n",
        "    \"\"\"Cyclic generator of paths indices\"\"\"\n",
        "    current_objects_id = 0\n",
        "    while True:\n",
        "        yield current_objects_id\n",
        "        current_objects_id  = (current_objects_id + 1) % objects_count"
      ],
      "execution_count": null,
      "outputs": []
    },
    {
      "cell_type": "code",
      "metadata": {
        "id": "WMFoqCtSjmYL"
      },
      "source": [
        "class SkyDataset(Dataset):    \n",
        "    def __init__(self, \n",
        "                 data_frame, \n",
        "                 root_dir, \n",
        "                 transform=None, \n",
        "                 batch_size = 8, \n",
        "                 augment = True,\n",
        "                 seq = iaa.Sequential([iaa.GaussianBlur(sigma=(0, 5))],random_order=True), \n",
        "                 train = True, \n",
        "                 target = True):\n",
        "        \"\"\"\n",
        "        Args:\n",
        "            pkl_file (string): Path to the pkl file with annotations.\n",
        "            root_dir (string): Directory with all the images.\n",
        "            transform (callable, optional): Optional transform to be applied on a sample.\n",
        "            batch_size (int, optional): batch size\n",
        "        \"\"\"\n",
        "        self.is_train = train\n",
        "        self.with_target = target\n",
        "        self.sky_data = data_frame\n",
        "        self.root_dir = os.path.abspath(root_dir)\n",
        "        self.transform = transform\n",
        "        \n",
        "        self.batch_size = batch_size\n",
        "        \n",
        "        self.objects_id_generator = Threadsafe_iter(get_objects_id(self.sky_data.shape[0]))\n",
        "        \n",
        "        self.lock = threading.Lock()\n",
        "        self.yield_lock = threading.Lock()\n",
        "        self.init_count = 0\n",
        "        self.augment = augment\n",
        "        self.cache = {}\n",
        "        \n",
        "        if self.augment:\n",
        "            # instantiate augmentations\n",
        "            self.seq = seq\n",
        "        \n",
        "    def __len__(self):                        \n",
        "        return self.sky_data.shape[0]\n",
        "    \n",
        "\n",
        "    def shuffle(self):\n",
        "        self.sky_data = shuffle(self.sky_data).reset_index(drop=True)\n",
        "    \n",
        "    def __iter__(self):\n",
        "        while True:\n",
        "            with self.lock:\n",
        "                if (self.init_count == 0):\n",
        "                    if self.is_train:\n",
        "                        self.shuffle()\n",
        "                    self.imgs = []\n",
        "                    self.labels = []\n",
        "                    self.ids =[]\n",
        "                    self.init_count = 1\n",
        "            \n",
        "            \n",
        "            for obj_id in self.objects_id_generator:\n",
        "                add_str =''\n",
        "                if(self.with_target and self.sky_data.iloc[obj_id]['mission'] == 'AI49'):\n",
        "                    add_str = 'ai49-'\n",
        "                \n",
        "                \n",
        "                \n",
        "                img_name = os.path.join(self.root_dir, self.sky_data.iloc[obj_id]['mission'], 'snapshots', add_str + 'snapshots-'+str((self.sky_data.iloc[obj_id]['observations_dt']).date()), self.sky_data.iloc[obj_id]['jpg_filename'])\n",
        "                mask_name = os.path.join(self.root_dir, self.sky_data.iloc[obj_id]['mission'], 'masks', 'mask-id'+str(self.sky_data.iloc[obj_id]['devID'])+'.png') \n",
        "                if (self.with_target):\n",
        "                  label = int(self.sky_data.iloc[obj_id]['observed_TCC'])      \n",
        "                \n",
        "                  \n",
        "               \n",
        "               #Mask for photos, very expensive operation\n",
        "               # mask = plt.imread(mask_name)\n",
        "               # mask = np.where(mask == 255, np.ones_like(mask),mask*0)\n",
        "                       \n",
        "                \n",
        "                \n",
        "                img = plt.imread(img_name)\n",
        "                img = torchvision.transforms.Compose([\n",
        "                                                      torchvision.transforms.ToPILImage(), \n",
        "                                                    torchvision.transforms.Resize([256, 256]),\n",
        "                                                    torchvision.transforms.ToTensor()\n",
        "                                                    ])(img)\n",
        "                if self.transform:\n",
        "                    img = self.transform(img)\n",
        "                img= img.numpy()\n",
        "                                                 \n",
        "                if self.augment:\n",
        "                    img = self.seq(images = img)\n",
        "                                                \n",
        "                    # Concurrent access by multiple threads to the lists below\n",
        "                with self.yield_lock:\n",
        "                    if (len(self.imgs)) < self.batch_size:\n",
        "                        self.imgs.append(img)\n",
        "                        if self.with_target:\n",
        "                            self.labels.append(label)\n",
        "                        if self.with_target == False :\n",
        "                            self.ids.append(obj_id)\n",
        "                    if (obj_id + 1 == len(self)):\n",
        "                        yield (torch.Tensor(np.array(self.imgs)),(torch.Tensor(self.labels)).type(torch.LongTensor), torch.Tensor(self.ids))\n",
        "                        self.imgs = []\n",
        "                        self.labels = []\n",
        "                        self.jpg_names =[]\n",
        "                        break    \n",
        "                    if len(self.imgs) % self.batch_size == 0:\n",
        "                     \n",
        "                        yield (torch.Tensor(np.array(self.imgs)),(torch.Tensor(self.labels)).type(torch.LongTensor), torch.Tensor(self.ids))\n",
        "                        self.imgs = []\n",
        "                        self.labels = []\n",
        "                        self.ids =[]\n",
        "\n",
        "                    \n",
        "            # At the end of an epoch we re-init data-structures\n",
        "            with self.lock:\n",
        "                if self.is_train:\n",
        "                    self.sky_data = shuffle(self.sky_data)\n",
        "                self.init_count = 0"
      ],
      "execution_count": null,
      "outputs": []
    },
    {
      "cell_type": "code",
      "metadata": {
        "id": "cHBt9jZh0PnG"
      },
      "source": [
        "#funtion for training single epoch which is full data set divided to batches and transfered to GPU via multiple threads\n",
        "def train_single_epoch(model: torch.nn.Module,\n",
        "                       optimizer: torch.optim.Optimizer, \n",
        "                       loss_function: torch.nn.Module, \n",
        "                       STEPS_PER_EPOCH,\n",
        "                       train_cuda_batches_queue,\n",
        "                       data_len):\n",
        "    \n",
        "    model.train()\n",
        "    loss_sum = 0\n",
        "\n",
        "    for image_batch in tqdm(range(STEPS_PER_EPOCH), total=STEPS_PER_EPOCH):\n",
        "      \n",
        "        x,y, ids = train_cuda_batches_queue.get(block = True)\n",
        "        \n",
        "        model.zero_grad()\n",
        "        hyp = model(x)\n",
        "       \n",
        "      \n",
        "        loss = loss_function(hyp, y)\n",
        "        loss.backward()\n",
        "        loss_sum += loss\n",
        "        \n",
        "        optimizer.step()\n",
        "\n",
        "    \n",
        "    return loss_sum/float(data_len)"
      ],
      "execution_count": null,
      "outputs": []
    },
    {
      "cell_type": "code",
      "metadata": {
        "id": "_Iig5xoX0az7"
      },
      "source": [
        "@torch.no_grad()\n",
        "# Validating of test data with accuracy metric, also transfered to GPU via multiple threads\n",
        "def validate_single_epoch(model: torch.nn.Module,\n",
        "                          loss_function: torch.nn.Module,                          \n",
        "                          STEPS_PER_EPOCH,\n",
        "                          test_cuda_batches_queue,\n",
        "                          data_len):\n",
        "    model.eval()\n",
        "    loss_sum = 0\n",
        "    accuracy = 0\n",
        "    \n",
        "    for image_batch in range(STEPS_PER_EPOCH):\n",
        "        \n",
        "        x,y,ids = test_cuda_batches_queue.get(block = True)\n",
        "\n",
        "        hyp = model(x)\n",
        "        loss = loss_function(hyp, y)\n",
        "        loss_sum += loss\n",
        "\n",
        "        y_pred = hyp.argmax(dim = 1, keepdim = True).to(device)\n",
        "    \n",
        "        accuracy += y_pred.eq(y.view_as(y_pred)).sum().item()\n",
        "\n",
        "    loss_avr = loss_sum / float(data_len)\n",
        "    accuracy_avr = 100 * accuracy / float(data_len)\n",
        "    \n",
        "    return {'loss' : loss_avr.item(), 'accuracy' : accuracy_avr}"
      ],
      "execution_count": null,
      "outputs": []
    },
    {
      "cell_type": "code",
      "metadata": {
        "id": "uOuVLUYg0dM_"
      },
      "source": [
        "def ploting_curves(loss, best_epoch):\n",
        "    \"\"\"\n",
        "    Plot loss evolution on training and validation sets\n",
        "    \"\"\"\n",
        "    # Plot learning loss curve\n",
        "    plt.plot(loss['train'], label = 'Training set')\n",
        "    plt.plot(loss['valid'], label = 'Val set')\n",
        "    plt.axvline(best_epoch, color = 'r', ls = '--', label = 'Best model')\n",
        "    plt.title('Loss evolution')\n",
        "    plt.xlabel('epochs')\n",
        "    plt.ylabel('Loss')\n",
        "    plt.legend()\n",
        "    plt.show()"
      ],
      "execution_count": null,
      "outputs": []
    },
    {
      "cell_type": "code",
      "metadata": {
        "id": "YEEiiK9j0eq1"
      },
      "source": [
        "import math\n",
        "def train_model(model: torch.nn.Module, \n",
        "                train_data,\n",
        "                test_data,\n",
        "                loss_function: torch.nn.Module = torch.nn.CrossEntropyLoss(),\n",
        "                optimizer_class: Type[torch.optim.Optimizer] = torch.optim,\n",
        "                optimizer_params: Dict = {},\n",
        "                initial_lr = 0.01,\n",
        "                lr_scheduler_class: Any = torch.optim.lr_scheduler.ReduceLROnPlateau,\n",
        "                lr_scheduler_params: Dict = {},\n",
        "                batch_size = 16,\n",
        "                s_eq = iaa.Sequential([iaa.GaussianBlur(sigma=(0, 5))],random_order=True),\n",
        "                max_epochs = 1000,\n",
        "                early_stopping_patience = 20):\n",
        "    # set to training mode\n",
        "  \n",
        "    # Here we instantiate queues and mutexes, and launch the threads that will preprocess the data and send it into GPU\n",
        "\n",
        "    \n",
        "    SkyData_train = SkyDataset(train_data, root_dir = '/content/drive/MyDrive/geo_kaggle', batch_size= batch_size, seq = s_eq)\n",
        "    SkyData_test = SkyDataset(test_data, root_dir = '/content/drive/MyDrive/geo_kaggle', batch_size= batch_size, augment= False, train = False)\n",
        "    \n",
        "    STEPS_PER_EPOCH_TRAIN = math.ceil(len(SkyData_train)/ float(batch_size)) \n",
        "    STEPS_PER_EPOCH_TEST = math.ceil(len(SkyData_test)/ float(batch_size)) \n",
        "\n",
        "    #Train data gpu and cpu queues\n",
        "    train_batches_queue_length = min(STEPS_PER_EPOCH_TRAIN, 2)    \n",
        "    train_batches_queue = Queue(maxsize=train_batches_queue_length)\n",
        "    train_cuda_batches_queue = Queue(maxsize=2)\n",
        "    train_thread_killer = thread_killer()\n",
        "    train_thread_killer.set_tokill(False)\n",
        "    train_preprocess_workers = 24\n",
        "\n",
        "    for _ in range(train_preprocess_workers):\n",
        "        thr = Thread(target=threaded_batches_feeder, args=(train_thread_killer, train_batches_queue, SkyData_train))\n",
        "        thr.start()\n",
        "\n",
        "    train_cuda_transfers_thread_killer = thread_killer()\n",
        "    train_cuda_transfers_thread_killer.set_tokill(False)\n",
        "    train_cudathread = Thread(target=threaded_cuda_batches, args=(train_cuda_transfers_thread_killer, train_cuda_batches_queue, train_batches_queue))\n",
        "    train_cudathread.start()\n",
        "\n",
        "    #Test data gpu and cpu queues\n",
        "    test_batches_queue_length = min(STEPS_PER_EPOCH_TEST, 2)    \n",
        "    test_batches_queue = Queue(maxsize=test_batches_queue_length)\n",
        "    test_cuda_batches_queue = Queue(maxsize=2)\n",
        "    test_thread_killer = thread_killer()\n",
        "    test_thread_killer.set_tokill(False)\n",
        "    test_preprocess_workers = 16\n",
        "\n",
        "    for _ in range(test_preprocess_workers):\n",
        "        thr = Thread(target=threaded_batches_feeder, args=(test_thread_killer, test_batches_queue, SkyData_test))\n",
        "        thr.start()\n",
        "\n",
        "    test_cuda_transfers_thread_killer = thread_killer()\n",
        "    test_cuda_transfers_thread_killer.set_tokill(False)\n",
        "    test_cudathread = Thread(target=threaded_cuda_batches, args=(test_cuda_transfers_thread_killer, test_cuda_batches_queue, test_batches_queue))\n",
        "    test_cudathread.start()\n",
        "\n",
        " \n",
        "    #Optimized cycle of model training\n",
        "    model.to(device)\n",
        "    optimizer = torch.optim.Adam(model.parameters(), lr=initial_lr, **optimizer_params)\n",
        "    lr_scheduler = lr_scheduler_class(optimizer, **lr_scheduler_params)\n",
        "    \n",
        "    best_val_loss = None\n",
        "    best_epoch = None\n",
        "    loss_list = {'train': list(), 'valid': list()}\n",
        "    \n",
        "\n",
        "    for epoch in range(max_epochs):\n",
        "        \n",
        "        print(f'Epoch {epoch}')\n",
        "    \n",
        "        train_loss =  train_single_epoch(model, optimizer, loss_function,STEPS_PER_EPOCH_TRAIN, train_cuda_batches_queue, len(SkyData_train))\n",
        "        \n",
        "        print('Validating epoch\\n')\n",
        "\n",
        "        val_metrics = validate_single_epoch(model, loss_function, STEPS_PER_EPOCH_TEST, test_cuda_batches_queue, len(SkyData_test))\n",
        "        loss_list['valid'].append(val_metrics['loss'])\n",
        "        print(f'Validation metrics: \\n{val_metrics}')\n",
        "\n",
        "        lr_scheduler.step(val_metrics['loss'])\n",
        "        torch.save(model, './alex_full.pth')\n",
        "        torch.save(model, '/content/drive/MyDrive/geo_kaggle/alex_full.pth')\n",
        "        \n",
        "        if best_val_loss is None or best_val_loss > val_metrics['loss']:\n",
        "            print(f'Best model yet, saving')\n",
        "            best_val_loss = val_metrics['loss']\n",
        "            best_epoch = epoch\n",
        "            torch.save(model, '/content/drive/MyDrive/geo_kaggle/best_alex_full.pth')\n",
        "            torch.save(model, './best_alex_full.pth')\n",
        "            \n",
        "        if epoch - best_epoch > early_stopping_patience:\n",
        "            print('Early stopping triggered')\n",
        "            ploting_curves(loss_list,best_epoch)\n",
        "            break\n",
        "    \n",
        "    #Emptifing and killing all used threads and queues\n",
        "    train_thread_killer.set_tokill(True)\n",
        "    train_cuda_transfers_thread_killer.set_tokill(True)\n",
        "    for _ in range(train_preprocess_workers):\n",
        "        try:\n",
        "            \n",
        "            train_batches_queue.get(block=True, timeout=1)\n",
        "            train_cuda_batches_queue.get(block=True, timeout=1)\n",
        "        except Empty:\n",
        "            pass\n",
        "\n",
        "    test_thread_killer.set_tokill(True)\n",
        "    test_cuda_transfers_thread_killer.set_tokill(True)\n",
        "    for _ in range(test_preprocess_workers):\n",
        "        try:\n",
        "            \n",
        "            test_batches_queue.get(block=True, timeout=1)\n",
        "            test_cuda_batches_queue.get(block=True, timeout=1)\n",
        "        except Empty:\n",
        "            pass"
      ],
      "execution_count": null,
      "outputs": []
    },
    {
      "cell_type": "code",
      "metadata": {
        "id": "nUxOzgyJiR2x"
      },
      "source": [
        "# Function to evaluate target vaiable of huge dataset with the same structure as previous functions \n",
        "def GetTarget(data, model, batch = 100):\n",
        "    SkyData_test = SkyDataset(data, root_dir = '/content/drive/MyDrive/geo_kaggle_test', batch_size= batch, augment= False, train = False, target = False)\n",
        "    df =  pd.DataFrame(columns=['jpg_filename','TCC'])\n",
        "    STEPS_PER_EPOCH_TEST = math.ceil(len(SkyData_test)/ float(batch)) \n",
        "\n",
        "    size = 0\n",
        "    \n",
        "    test_batches_queue_length = min(STEPS_PER_EPOCH_TEST, 2)    \n",
        "    test_batches_queue = Queue(maxsize=test_batches_queue_length)\n",
        "    test_cuda_batches_queue = Queue(maxsize=2)\n",
        "    test_thread_killer = thread_killer()\n",
        "    test_thread_killer.set_tokill(False)\n",
        "    test_preprocess_workers = 32\n",
        "\n",
        "    for _ in range(test_preprocess_workers):\n",
        "        thr = Thread(target=threaded_batches_feeder, args=(test_thread_killer, test_batches_queue, SkyData_test))\n",
        "        thr.start()\n",
        "\n",
        "    test_cuda_transfers_thread_killer = thread_killer()\n",
        "    test_cuda_transfers_thread_killer.set_tokill(False)\n",
        "    test_cudathread = Thread(target=threaded_cuda_batches, args=(test_cuda_transfers_thread_killer, test_cuda_batches_queue, test_batches_queue))\n",
        "    test_cudathread.start()\n",
        "\n",
        "    \n",
        "    model.eval()\n",
        "   \n",
        "    for image_batch in tqdm(range(STEPS_PER_EPOCH_TEST), total=STEPS_PER_EPOCH_TEST):\n",
        "        \n",
        "        x,y,ids = test_cuda_batches_queue.get(block = True)\n",
        "\n",
        "        hyp = model(x)\n",
        "  \n",
        "        y_pred = hyp.argmax(dim = 1, keepdim = True).to(device)\n",
        "\n",
        "        ids = (ids).tolist()\n",
        "        y_pred = (y_pred).tolist()\n",
        "        for i in range(len(ids)):\n",
        "            df.loc[size] = [data.iloc[int(ids[i])]['jpg_filename'], y_pred[i][0]]\n",
        "            size += 1\n",
        "        \n",
        "    test_thread_killer.set_tokill(True)\n",
        "    test_cuda_transfers_thread_killer.set_tokill(True)\n",
        "    for _ in range(test_preprocess_workers):\n",
        "        try:\n",
        "            # Enforcing thread shutdown\n",
        "            test_batches_queue.get(block=True, timeout=1)\n",
        "            test_cuda_batches_queue.get(block=True, timeout=1)\n",
        "        except Empty:\n",
        "            pass\n",
        "\n",
        "    return df.drop_duplicates()\n",
        "         \n",
        "    \n",
        "        \n",
        "\n",
        "    "
      ],
      "execution_count": null,
      "outputs": []
    },
    {
      "cell_type": "code",
      "metadata": {
        "id": "48HpwZEeDHNG"
      },
      "source": [
        "#xarier initiation of weights\n",
        "def init_weights(m):\n",
        "    if type(m) == nn.Linear:\n",
        "        torch.nn.init.xavier_uniform(m.weight)\n",
        "        m.bias.data.fill_(0.01)"
      ],
      "execution_count": null,
      "outputs": []
    },
    {
      "cell_type": "code",
      "metadata": {
        "id": "HxKbgHXsqADO"
      },
      "source": [
        "#Transfer learining of Resnet512 and linear head\n",
        "class Pe_resnet512(torch.nn.Module):\n",
        "    \n",
        "    def __init__(self, \n",
        "                 input_resolution: Tuple[int, int] = (512, 512),\n",
        "                 input_channels: int = 1, \n",
        "                 hidden_layer_features: List[int] = [256, 256, 256],\n",
        "                 activation: Type[torch.nn.Module] = torch.nn.ReLU,\n",
        "                 num_classes: int = 9):\n",
        "        \n",
        "        super().__init__()\n",
        "\n",
        "        self.input_resolution = input_resolution\n",
        "        self.input_channels = input_channels\n",
        "        self.hidden_layer_features = hidden_layer_features\n",
        "        self.activation = activation\n",
        "        self.num_classes = num_classes\n",
        "\n",
        "        resnet152 = torchvision.models.resnet152(pretrained=True, progress=False)\n",
        "        for param in resnet152.parameters():\n",
        "            param.requires_grad = False\n",
        "\n",
        "        resnet152.fc = torch.nn.Sequential(torch.nn.Linear(2048, 128))\n",
        "\n",
        "        self.layer = torch.nn.Sequential(resnet152,\n",
        "                                         torch.nn.BatchNorm1d(128),\n",
        "                                         torch.nn.ReLU(),\n",
        "                                torch.nn.Linear(128,512),\n",
        "                                torch.nn.BatchNorm1d(512),\n",
        "                                torch.nn.ReLU(),\n",
        "                                torch.nn.Linear(512,1024),\n",
        "                                torch.nn.BatchNorm1d(1024),\n",
        "                                torch.nn.ReLU(),\n",
        "                                torch.nn.Linear(1024,9))\n",
        "    \n",
        "        \n",
        "    def forward(self, x):\n",
        "        \n",
        "        x = self.layer(x)\n",
        "        \n",
        "        output = F.log_softmax(x, dim = 1)\n",
        "        \n",
        "        return output"
      ],
      "execution_count": null,
      "outputs": []
    },
    {
      "cell_type": "code",
      "metadata": {
        "colab": {
          "base_uri": "https://localhost:8080/"
        },
        "id": "Rxo7fA4I0nQn",
        "outputId": "2cd4cff6-53e5-437b-b713-f839e3040f7d"
      },
      "source": [
        "model =  torch.load('/content/drive/MyDrive/geo_kaggle/best_alex_full.pth')\n",
        "model.to(device)\n",
        "print(model)\n",
        "print('Total number of trainable parameters', \n",
        "      sum(p.numel() for p in model.parameters() if p.requires_grad))"
      ],
      "execution_count": null,
      "outputs": [
        {
          "output_type": "stream",
          "text": [
            "Pe(\n",
            "  (layer): Sequential(\n",
            "    (0): AlexNet(\n",
            "      (features): Sequential(\n",
            "        (0): Conv2d(3, 64, kernel_size=(11, 11), stride=(4, 4), padding=(2, 2))\n",
            "        (1): ReLU(inplace=True)\n",
            "        (2): MaxPool2d(kernel_size=3, stride=2, padding=0, dilation=1, ceil_mode=False)\n",
            "        (3): Conv2d(64, 192, kernel_size=(5, 5), stride=(1, 1), padding=(2, 2))\n",
            "        (4): ReLU(inplace=True)\n",
            "        (5): MaxPool2d(kernel_size=3, stride=2, padding=0, dilation=1, ceil_mode=False)\n",
            "        (6): Conv2d(192, 384, kernel_size=(3, 3), stride=(1, 1), padding=(1, 1))\n",
            "        (7): ReLU(inplace=True)\n",
            "        (8): Conv2d(384, 256, kernel_size=(3, 3), stride=(1, 1), padding=(1, 1))\n",
            "        (9): ReLU(inplace=True)\n",
            "        (10): Conv2d(256, 256, kernel_size=(3, 3), stride=(1, 1), padding=(1, 1))\n",
            "        (11): ReLU(inplace=True)\n",
            "        (12): MaxPool2d(kernel_size=3, stride=2, padding=0, dilation=1, ceil_mode=False)\n",
            "      )\n",
            "      (avgpool): AdaptiveAvgPool2d(output_size=(6, 6))\n",
            "      (classifier): Sequential(\n",
            "        (0): Dropout(p=0.5, inplace=False)\n",
            "        (1): Linear(in_features=9216, out_features=4096, bias=True)\n",
            "        (2): ReLU(inplace=True)\n",
            "        (3): Dropout(p=0.5, inplace=False)\n",
            "        (4): Linear(in_features=4096, out_features=4096, bias=True)\n",
            "        (5): ReLU(inplace=True)\n",
            "        (6): Linear(in_features=4096, out_features=1000, bias=True)\n",
            "      )\n",
            "      (fc): Sequential(\n",
            "        (0): Dropout(p=0.5, inplace=False)\n",
            "        (1): Linear(in_features=9261, out_features=4096, bias=True)\n",
            "        (2): ReLU()\n",
            "        (3): Dropout(p=0.5, inplace=False)\n",
            "        (4): Linear(in_features=4096, out_features=4096, bias=True)\n",
            "        (5): ReLU()\n",
            "        (6): Linear(in_features=4096, out_features=9, bias=True)\n",
            "      )\n",
            "    )\n",
            "  )\n",
            ")\n",
            "Total number of trainable parameters 115856177\n"
          ],
          "name": "stdout"
        }
      ]
    },
    {
      "cell_type": "code",
      "metadata": {
        "id": "-Q_JKIM9YhtN",
        "colab": {
          "base_uri": "https://localhost:8080/"
        },
        "outputId": "7321838c-e541-4fb7-ee55-05dd54d54c5a"
      },
      "source": [
        "#Read data\n",
        "data = pd.DataFrame(data_index)\n",
        "data.shape"
      ],
      "execution_count": null,
      "outputs": [
        {
          "output_type": "execute_result",
          "data": {
            "text/plain": [
              "(92077, 8)"
            ]
          },
          "metadata": {
            "tags": []
          },
          "execution_count": 25
        }
      ]
    },
    {
      "cell_type": "code",
      "metadata": {
        "id": "kNqur78CvQ-j"
      },
      "source": [
        "df= data[data['observed_TCC'] == 8 ].sample(10000)"
      ],
      "execution_count": null,
      "outputs": []
    },
    {
      "cell_type": "code",
      "metadata": {
        "id": "laVVab3pc3_1",
        "colab": {
          "base_uri": "https://localhost:8080/"
        },
        "outputId": "3664f8ec-eb6f-49fd-8913-a40c44319447"
      },
      "source": [
        "#Balance data\n",
        "data = pd.concat([df, data[data['observed_TCC'] != 8 ]], ignore_index=True).reset_index(drop = True)\n",
        "data.shape"
      ],
      "execution_count": null,
      "outputs": [
        {
          "output_type": "execute_result",
          "data": {
            "text/plain": [
              "(68788, 8)"
            ]
          },
          "metadata": {
            "tags": []
          },
          "execution_count": 27
        }
      ]
    },
    {
      "cell_type": "code",
      "metadata": {
        "id": "A1-nNnMQdUTR",
        "colab": {
          "base_uri": "https://localhost:8080/",
          "height": 406
        },
        "outputId": "1486c7f0-dc63-4725-c88f-39bb10d1e70c"
      },
      "source": [
        "plt.figure(figsize = (6, 6))\n",
        "sns.histplot(data, x = 'observed_TCC', hue = 'mission', multiple = 'stack')"
      ],
      "execution_count": null,
      "outputs": [
        {
          "output_type": "execute_result",
          "data": {
            "text/plain": [
              "<matplotlib.axes._subplots.AxesSubplot at 0x7fa86c6d41d0>"
            ]
          },
          "metadata": {
            "tags": []
          },
          "execution_count": 28
        },
        {
          "output_type": "display_data",
          "data": {
            "image/png": "[encoded data removed]",
            "text/plain": [
              "<Figure size 432x432 with 1 Axes>"
            ]
          },
          "metadata": {
            "tags": [],
            "needs_background": "light"
          }
        }
      ]
    },
    {
      "cell_type": "code",
      "metadata": {
        "id": "jFMVoBqG6k7J"
      },
      "source": [
        "data = shuffle(data).reset_index(drop = True)"
      ],
      "execution_count": null,
      "outputs": []
    },
    {
      "cell_type": "code",
      "metadata": {
        "id": "p9N7FU2yfWDl"
      },
      "source": [
        "#train-test random split\n",
        "test_data = data.loc[61000:68750,:].reset_index(drop=True)\n",
        "train_data = data.loc[:60999,:].reset_index(drop=True)"
      ],
      "execution_count": null,
      "outputs": []
    },
    {
      "cell_type": "code",
      "metadata": {
        "id": "eumApmwk0uSz",
        "colab": {
          "base_uri": "https://localhost:8080/"
        },
        "outputId": "d29f11e9-d30e-4d5b-a6e7-e2e5b688c3c1"
      },
      "source": [
        "train_model(model, \n",
        "            train_data,\n",
        "            test_data,\n",
        "            loss_function=torch.nn.CrossEntropyLoss(), \n",
        "            initial_lr=0.00005,\n",
        "            lr_scheduler_params = {'patience':2, 'threshold':0.0001},\n",
        "            s_eq = iaa.Sequential([\n",
        "                                  iaa.Fliplr(0.5), # horizontally flip 50% of the images\n",
        "                                   iaa.GaussianBlur(sigma=(0, 3.0)),\n",
        "                                   iaa.Flipud(0.5),\n",
        "                                   iaa.Affine(rotate = (-30,30),scale=(0.5, 1.5))                                                    \n",
        "                                  ]), \n",
        "            batch_size= 256)\n"
      ],
      "execution_count": null,
      "outputs": [
        {
          "output_type": "stream",
          "text": [
            "\r  0%|          | 0/239 [00:00<?, ?it/s]"
          ],
          "name": "stderr"
        },
        {
          "output_type": "stream",
          "text": [
            "Epoch 0\n"
          ],
          "name": "stdout"
        },
        {
          "output_type": "stream",
          "text": [
            "100%|██████████| 239/239 [24:13<00:00,  6.08s/it]\n"
          ],
          "name": "stderr"
        },
        {
          "output_type": "stream",
          "text": [
            "Validating epoch\n",
            "\n",
            "Validation metrics: \n",
            "{'loss': 0.006056332029402256, 'accuracy': 46.83266675267707}\n",
            "Best model yet, saving\n",
            "Epoch 1\n"
          ],
          "name": "stdout"
        },
        {
          "output_type": "stream",
          "text": [
            "100%|██████████| 239/239 [17:19<00:00,  4.35s/it]\n"
          ],
          "name": "stderr"
        },
        {
          "output_type": "stream",
          "text": [
            "Validating epoch\n",
            "\n",
            "Validation metrics: \n",
            "{'loss': 0.005811895243823528, 'accuracy': 47.593858856921685}\n",
            "Best model yet, saving\n"
          ],
          "name": "stdout"
        },
        {
          "output_type": "stream",
          "text": [
            "\r  0%|          | 0/239 [00:00<?, ?it/s]"
          ],
          "name": "stderr"
        },
        {
          "output_type": "stream",
          "text": [
            "Epoch 2\n"
          ],
          "name": "stdout"
        },
        {
          "output_type": "stream",
          "text": [
            "100%|██████████| 239/239 [17:18<00:00,  4.35s/it]\n"
          ],
          "name": "stderr"
        },
        {
          "output_type": "stream",
          "text": [
            "Validating epoch\n",
            "\n",
            "Validation metrics: \n",
            "{'loss': 0.00539693096652627, 'accuracy': 50.677331957166814}\n",
            "Best model yet, saving\n"
          ],
          "name": "stdout"
        },
        {
          "output_type": "stream",
          "text": [
            "\r  0%|          | 0/239 [00:00<?, ?it/s]"
          ],
          "name": "stderr"
        },
        {
          "output_type": "stream",
          "text": [
            "Epoch 3\n"
          ],
          "name": "stdout"
        },
        {
          "output_type": "stream",
          "text": [
            "100%|██████████| 239/239 [17:12<00:00,  4.32s/it]\n"
          ],
          "name": "stderr"
        },
        {
          "output_type": "stream",
          "text": [
            "Validating epoch\n",
            "\n",
            "Validation metrics: \n",
            "{'loss': 0.005149856675416231, 'accuracy': 53.21893949167849}\n",
            "Best model yet, saving\n"
          ],
          "name": "stdout"
        },
        {
          "output_type": "stream",
          "text": [
            "\r  0%|          | 0/239 [00:00<?, ?it/s]"
          ],
          "name": "stderr"
        },
        {
          "output_type": "stream",
          "text": [
            "Epoch 4\n"
          ],
          "name": "stdout"
        },
        {
          "output_type": "stream",
          "text": [
            "100%|██████████| 239/239 [17:14<00:00,  4.33s/it]\n"
          ],
          "name": "stderr"
        },
        {
          "output_type": "stream",
          "text": [
            "Validating epoch\n",
            "\n",
            "Validation metrics: \n",
            "{'loss': 0.005350863095372915, 'accuracy': 51.38691781705587}\n"
          ],
          "name": "stdout"
        },
        {
          "output_type": "stream",
          "text": [
            "\r  0%|          | 0/239 [00:00<?, ?it/s]"
          ],
          "name": "stderr"
        },
        {
          "output_type": "stream",
          "text": [
            "Epoch 5\n"
          ],
          "name": "stdout"
        },
        {
          "output_type": "stream",
          "text": [
            "100%|██████████| 239/239 [17:19<00:00,  4.35s/it]\n"
          ],
          "name": "stderr"
        },
        {
          "output_type": "stream",
          "text": [
            "Validating epoch\n",
            "\n",
            "Validation metrics: \n",
            "{'loss': 0.005891351029276848, 'accuracy': 49.23235711521094}\n"
          ],
          "name": "stdout"
        },
        {
          "output_type": "stream",
          "text": [
            "\r  0%|          | 0/239 [00:00<?, ?it/s]"
          ],
          "name": "stderr"
        },
        {
          "output_type": "stream",
          "text": [
            "Epoch 6\n"
          ],
          "name": "stdout"
        },
        {
          "output_type": "stream",
          "text": [
            "100%|██████████| 239/239 [17:20<00:00,  4.35s/it]\n"
          ],
          "name": "stderr"
        },
        {
          "output_type": "stream",
          "text": [
            "Validating epoch\n",
            "\n",
            "Validation metrics: \n",
            "{'loss': 0.006031247787177563, 'accuracy': 48.05831505612179}\n"
          ],
          "name": "stdout"
        },
        {
          "output_type": "stream",
          "text": [
            "\r  0%|          | 0/239 [00:00<?, ?it/s]"
          ],
          "name": "stderr"
        },
        {
          "output_type": "stream",
          "text": [
            "Epoch 7\n"
          ],
          "name": "stdout"
        },
        {
          "output_type": "stream",
          "text": [
            "100%|██████████| 239/239 [17:48<00:00,  4.47s/it]\n"
          ],
          "name": "stderr"
        },
        {
          "output_type": "stream",
          "text": [
            "Validating epoch\n",
            "\n",
            "Validation metrics: \n",
            "{'loss': 0.0055833375081419945, 'accuracy': 51.56753967230035}\n"
          ],
          "name": "stdout"
        },
        {
          "output_type": "stream",
          "text": [
            "\r  0%|          | 0/239 [00:00<?, ?it/s]"
          ],
          "name": "stderr"
        },
        {
          "output_type": "stream",
          "text": [
            "Epoch 8\n"
          ],
          "name": "stdout"
        },
        {
          "output_type": "stream",
          "text": [
            "100%|██████████| 239/239 [18:18<00:00,  4.60s/it]\n"
          ],
          "name": "stderr"
        },
        {
          "output_type": "stream",
          "text": [
            "Validating epoch\n",
            "\n",
            "Validation metrics: \n",
            "{'loss': 0.005598753225058317, 'accuracy': 51.864275577344856}\n"
          ],
          "name": "stdout"
        },
        {
          "output_type": "stream",
          "text": [
            "\r  0%|          | 0/239 [00:00<?, ?it/s]"
          ],
          "name": "stderr"
        },
        {
          "output_type": "stream",
          "text": [
            "Epoch 9\n"
          ],
          "name": "stdout"
        },
        {
          "output_type": "stream",
          "text": [
            " 62%|██████▏   | 148/239 [11:23<06:56,  4.58s/it]"
          ],
          "name": "stderr"
        }
      ]
    },
    {
      "cell_type": "code",
      "metadata": {
        "id": "Iw5o56jVvbZQ"
      },
      "source": [
        "the_model = torch.load('/content/drive/MyDrive/geo_kaggle/best_alex_full.pth')\n"
      ],
      "execution_count": null,
      "outputs": []
    },
    {
      "cell_type": "code",
      "metadata": {
        "id": "-iozbj21upx-"
      },
      "source": [
        "print(the_model)"
      ],
      "execution_count": null,
      "outputs": []
    },
    {
      "cell_type": "code",
      "metadata": {
        "id": "BqmiABpPsIUR"
      },
      "source": [
        "with open('/content/drive/MyDrive/geo_kaggle_test/index.pkl', 'rb') as f:\n",
        "    data_index = pickle.load(f)\n",
        "data_valid = pd.DataFrame(data_index)"
      ],
      "execution_count": null,
      "outputs": []
    },
    {
      "cell_type": "code",
      "metadata": {
        "id": "asiAgJH5tPGC",
        "colab": {
          "base_uri": "https://localhost:8080/"
        },
        "outputId": "1980e358-dd00-4a30-ea3a-4cb9792d4095"
      },
      "source": [
        "target = GetTarget(data_valid,the_model)"
      ],
      "execution_count": null,
      "outputs": [
        {
          "output_type": "stream",
          "text": [
            "100%|██████████| 270/270 [06:21<00:00,  1.41s/it]\n"
          ],
          "name": "stderr"
        }
      ]
    },
    {
      "cell_type": "code",
      "metadata": {
        "id": "QEDoTtcVLgX3",
        "colab": {
          "base_uri": "https://localhost:8080/",
          "height": 402
        },
        "outputId": "9a6c6539-659a-4cd6-fd7c-c958130e66a4"
      },
      "source": [
        "target"
      ],
      "execution_count": null,
      "outputs": [
        {
          "output_type": "execute_result",
          "data": {
            "text/html": [
              "<div>\n",
              "<style scoped>\n",
              "    .dataframe tbody tr th:only-of-type {\n",
              "        vertical-align: middle;\n",
              "    }\n",
              "\n",
              "    .dataframe tbody tr th {\n",
              "        vertical-align: top;\n",
              "    }\n",
              "\n",
              "    .dataframe thead th {\n",
              "        text-align: right;\n",
              "    }\n",
              "</style>\n",
              "<table border=\"1\" class=\"dataframe\">\n",
              "  <thead>\n",
              "    <tr style=\"text-align: right;\">\n",
              "      <th></th>\n",
              "      <th>jpg_filename</th>\n",
              "      <th>TCC</th>\n",
              "    </tr>\n",
              "  </thead>\n",
              "  <tbody>\n",
              "    <tr>\n",
              "      <th>0</th>\n",
              "      <td>404863be-8c7b-4aba-9a11-70e61099068e.jpg</td>\n",
              "      <td>8</td>\n",
              "    </tr>\n",
              "    <tr>\n",
              "      <th>1</th>\n",
              "      <td>1db7c21a-a0e7-48b1-8f9d-ab2e5124064d.jpg</td>\n",
              "      <td>8</td>\n",
              "    </tr>\n",
              "    <tr>\n",
              "      <th>2</th>\n",
              "      <td>c1fd8fc6-d0a3-404b-b533-ea62b9a1b559.jpg</td>\n",
              "      <td>8</td>\n",
              "    </tr>\n",
              "    <tr>\n",
              "      <th>3</th>\n",
              "      <td>70b7bf82-e6b6-48cd-8ce1-51cc4db4b914.jpg</td>\n",
              "      <td>8</td>\n",
              "    </tr>\n",
              "    <tr>\n",
              "      <th>4</th>\n",
              "      <td>2a271026-72db-4fa6-9457-51ee47a51340.jpg</td>\n",
              "      <td>8</td>\n",
              "    </tr>\n",
              "    <tr>\n",
              "      <th>...</th>\n",
              "      <td>...</td>\n",
              "      <td>...</td>\n",
              "    </tr>\n",
              "    <tr>\n",
              "      <th>26993</th>\n",
              "      <td>33b15d31-f370-4be3-9f96-eb70818c7b9d.jpg</td>\n",
              "      <td>8</td>\n",
              "    </tr>\n",
              "    <tr>\n",
              "      <th>26994</th>\n",
              "      <td>18f65dbc-d80e-4177-8998-7eb026ad69a8.jpg</td>\n",
              "      <td>1</td>\n",
              "    </tr>\n",
              "    <tr>\n",
              "      <th>26995</th>\n",
              "      <td>04cb832a-d8e5-4138-957f-5e011f7a3def.jpg</td>\n",
              "      <td>8</td>\n",
              "    </tr>\n",
              "    <tr>\n",
              "      <th>26996</th>\n",
              "      <td>cd7bcaaf-f29b-41af-817b-c16ddef21fdc.jpg</td>\n",
              "      <td>8</td>\n",
              "    </tr>\n",
              "    <tr>\n",
              "      <th>26998</th>\n",
              "      <td>3aab73f2-4dfb-4a50-8e6c-67f4f4d838a5.jpg</td>\n",
              "      <td>4</td>\n",
              "    </tr>\n",
              "  </tbody>\n",
              "</table>\n",
              "<p>26998 rows × 2 columns</p>\n",
              "</div>"
            ],
            "text/plain": [
              "                                   jpg_filename TCC\n",
              "0      404863be-8c7b-4aba-9a11-70e61099068e.jpg   8\n",
              "1      1db7c21a-a0e7-48b1-8f9d-ab2e5124064d.jpg   8\n",
              "2      c1fd8fc6-d0a3-404b-b533-ea62b9a1b559.jpg   8\n",
              "3      70b7bf82-e6b6-48cd-8ce1-51cc4db4b914.jpg   8\n",
              "4      2a271026-72db-4fa6-9457-51ee47a51340.jpg   8\n",
              "...                                         ...  ..\n",
              "26993  33b15d31-f370-4be3-9f96-eb70818c7b9d.jpg   8\n",
              "26994  18f65dbc-d80e-4177-8998-7eb026ad69a8.jpg   1\n",
              "26995  04cb832a-d8e5-4138-957f-5e011f7a3def.jpg   8\n",
              "26996  cd7bcaaf-f29b-41af-817b-c16ddef21fdc.jpg   8\n",
              "26998  3aab73f2-4dfb-4a50-8e6c-67f4f4d838a5.jpg   4\n",
              "\n",
              "[26998 rows x 2 columns]"
            ]
          },
          "metadata": {
            "tags": []
          },
          "execution_count": 34
        }
      ]
    },
    {
      "cell_type": "code",
      "metadata": {
        "id": "FyjHIFyo6Q_i"
      },
      "source": [
        "target.to_csv('/content/alex_full_try.csv', sep=',' , index=False)"
      ],
      "execution_count": null,
      "outputs": []
    },
    {
      "cell_type": "markdown",
      "metadata": {
        "id": "NVmHfrK1Je6H"
      },
      "source": [
        "Due to parallel loading of data some objects are not evaluated (usually less than 1 per cent)\n",
        "Here are their names"
      ]
    },
    {
      "cell_type": "code",
      "metadata": {
        "id": "ZdWbyMD2FR6-",
        "colab": {
          "base_uri": "https://localhost:8080/"
        },
        "outputId": "c6be7ab4-fca8-422f-ec8c-301401223300"
      },
      "source": [
        "(pd.concat([target['jpg_filename'], data_valid['jpg_filename']])).drop_duplicates(keep=False)"
      ],
      "execution_count": null,
      "outputs": [
        {
          "output_type": "execute_result",
          "data": {
            "text/plain": [
              "26997    1b4a02b2-1706-4f40-b9a1-437e49a857e7.jpg\n",
              "26999    0824f176-2f23-4e16-9fdf-6a411da2979a.jpg\n",
              "Name: jpg_filename, dtype: object"
            ]
          },
          "metadata": {
            "tags": []
          },
          "execution_count": 36
        }
      ]
    },
    {
      "cell_type": "code",
      "metadata": {
        "id": "8bbgygtAdZAi"
      },
      "source": [
        ""
      ],
      "execution_count": null,
      "outputs": []
    }
  ]
}